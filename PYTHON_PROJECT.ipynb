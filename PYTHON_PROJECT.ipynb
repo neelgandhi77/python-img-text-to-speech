{
 "cells": [
  {
   "cell_type": "markdown",
   "metadata": {},
   "source": [
    "# PYTHON PROJECT"
   ]
  },
  {
   "cell_type": "markdown",
   "metadata": {},
   "source": [
    "### Text-Image to Speech With UI"
   ]
  },
  {
   "cell_type": "code",
   "execution_count": 1,
   "metadata": {},
   "outputs": [],
   "source": [
    "import pytesseract\n",
    "import cv2"
   ]
  },
  {
   "cell_type": "code",
   "execution_count": 2,
   "metadata": {},
   "outputs": [],
   "source": [
    "from gtts import gTTS \n",
    "from playsound import playsound\n",
    "import os "
   ]
  },
  {
   "cell_type": "code",
   "execution_count": null,
   "metadata": {},
   "outputs": [],
   "source": []
  },
  {
   "cell_type": "code",
   "execution_count": null,
   "metadata": {},
   "outputs": [],
   "source": []
  },
  {
   "cell_type": "code",
   "execution_count": null,
   "metadata": {},
   "outputs": [],
   "source": []
  },
  {
   "cell_type": "code",
   "execution_count": 3,
   "metadata": {},
   "outputs": [],
   "source": [
    "#please update the path as per your system"
   ]
  },
  {
   "cell_type": "code",
   "execution_count": 4,
   "metadata": {},
   "outputs": [],
   "source": [
    "pytesseract.pytesseract.tesseract_cmd = r'C:\\Users\\LENOVO\\anaconda3\\Lib\\site-packages\\Tesseract-OCR\\tesseract.exe'"
   ]
  },
  {
   "cell_type": "code",
   "execution_count": null,
   "metadata": {},
   "outputs": [],
   "source": []
  },
  {
   "cell_type": "code",
   "execution_count": null,
   "metadata": {},
   "outputs": [],
   "source": []
  },
  {
   "cell_type": "code",
   "execution_count": null,
   "metadata": {},
   "outputs": [],
   "source": []
  },
  {
   "cell_type": "code",
   "execution_count": 5,
   "metadata": {},
   "outputs": [],
   "source": [
    "from tkinter import *"
   ]
  },
  {
   "cell_type": "code",
   "execution_count": null,
   "metadata": {},
   "outputs": [],
   "source": []
  },
  {
   "cell_type": "code",
   "execution_count": null,
   "metadata": {},
   "outputs": [],
   "source": []
  },
  {
   "cell_type": "code",
   "execution_count": 6,
   "metadata": {},
   "outputs": [],
   "source": [
    "def txttospeech():\n",
    "    \n",
    "    if f1.get() == \"\":\n",
    "        try:\n",
    "            lb4.config(fg=\"blue\", text=\"Sry! You haven't Entered Anything...Try Again\")\n",
    "        except:\n",
    "            pass\n",
    "    else:\n",
    "        mytext = f1.get()\n",
    "        lb4.config(fg=\"Orange\", text=mytext)\n",
    "        l1 = 'en'\n",
    "        ob1 = gTTS(text=mytext, lang=l1, slow=False) \n",
    "        ob1.save('desktop/temp.mp3')\n",
    "        playsound('desktop/temp.mp3')\n",
    "        os.remove('desktop/temp.mp3')"
   ]
  },
  {
   "cell_type": "code",
   "execution_count": null,
   "metadata": {},
   "outputs": [],
   "source": []
  },
  {
   "cell_type": "code",
   "execution_count": null,
   "metadata": {},
   "outputs": [],
   "source": []
  },
  {
   "cell_type": "code",
   "execution_count": null,
   "metadata": {},
   "outputs": [],
   "source": []
  },
  {
   "cell_type": "code",
   "execution_count": 7,
   "metadata": {},
   "outputs": [],
   "source": [
    "def pytecimage():\n",
    "    \n",
    "    if f2.get() == \"\":\n",
    "        try:\n",
    "            lb4.config(fg=\"blue\", text=\"Sry! You haven't Entered Any Image Path...Try Again\")\n",
    "        except Typeerror:\n",
    "            lb4.config(fg=\"blue\", text=\"Sry! Your given path is wrong or give path is not an Image!!!\")\n",
    "            pass\n",
    "        except:\n",
    "            pass\n",
    "       \n",
    "    else:\n",
    "        try:\n",
    "            txt=f2.get()\n",
    "            img=cv2.imread(str(txt))\n",
    "            gray = cv2.cvtColor(img, cv2.COLOR_BGR2GRAY)\n",
    "            ans=pytesseract.image_to_string(gray,config ='--psm 6',lang='eng')\n",
    "            lb4.config(fg=\"Orange\", text=ans)\n",
    "            txttospeech2(ans)\n",
    "        except:\n",
    "            lb4.config(fg=\"blue\", text=\"Sry! Your given path is wrong or give path is not an Image!!!\")\n",
    "            pass"
   ]
  },
  {
   "cell_type": "code",
   "execution_count": null,
   "metadata": {},
   "outputs": [],
   "source": []
  },
  {
   "cell_type": "code",
   "execution_count": null,
   "metadata": {},
   "outputs": [],
   "source": []
  },
  {
   "cell_type": "code",
   "execution_count": null,
   "metadata": {},
   "outputs": [],
   "source": []
  },
  {
   "cell_type": "code",
   "execution_count": 15,
   "metadata": {},
   "outputs": [],
   "source": [
    "def txttospeech2(txt):\n",
    "    mytext = txt\n",
    "    l1 = 'en'#also 'hi' possible try this अमेरिकी राष्ट्रपति डोनाल्ड ट्रम्प की कोविड 19 टेस्ट रिपोर्ट नेगेटिव आई है \n",
    "    ob1 = gTTS(text=mytext, lang=l1, slow=False) \n",
    "    ob1.save('desktop/temp.mp3')\n",
    "    playsound('desktop/temp.mp3')\n",
    "    os.remove('desktop/temp.mp3')"
   ]
  },
  {
   "cell_type": "code",
   "execution_count": null,
   "metadata": {},
   "outputs": [],
   "source": []
  },
  {
   "cell_type": "code",
   "execution_count": null,
   "metadata": {},
   "outputs": [],
   "source": []
  },
  {
   "cell_type": "code",
   "execution_count": 9,
   "metadata": {},
   "outputs": [],
   "source": [
    "r = Tk()\n",
    "r.title(\"Text To speech\")\n",
    "r.geometry('350x300') \n",
    "r.resizable(0, 0)\n",
    "f1 = StringVar()\n",
    "f2 = StringVar()"
   ]
  },
  {
   "cell_type": "code",
   "execution_count": null,
   "metadata": {},
   "outputs": [],
   "source": []
  },
  {
   "cell_type": "code",
   "execution_count": 10,
   "metadata": {},
   "outputs": [],
   "source": [
    "Mid = Frame(r)\n",
    "Mid.pack(pady=30)\n",
    "Left = Frame(Mid)\n",
    "Left.pack(side=LEFT)\n",
    "Right = Frame(Mid)\n",
    "Right.pack(side=RIGHT)\n",
    "BelowMid = Frame(r)\n",
    "BelowMid.pack()\n",
    "Bottom = Frame(r)\n",
    "Bottom.pack()"
   ]
  },
  {
   "cell_type": "code",
   "execution_count": null,
   "metadata": {},
   "outputs": [],
   "source": []
  },
  {
   "cell_type": "code",
   "execution_count": null,
   "metadata": {},
   "outputs": [],
   "source": []
  },
  {
   "cell_type": "code",
   "execution_count": 11,
   "metadata": {},
   "outputs": [],
   "source": [
    "lb1 = Label(Left, text=\"Enter a Text\")\n",
    "lb1.pack()\n",
    "lb2 = Label(Left, text=\"Enter Image PATH\")\n",
    "lb2.pack()\n",
    "lb3 = Label(Bottom, text=\"Speech is Here!!!!\")\n",
    "lb3.pack()\n",
    "lb4 = Label(Bottom)\n",
    "lb4.pack()"
   ]
  },
  {
   "cell_type": "code",
   "execution_count": null,
   "metadata": {},
   "outputs": [],
   "source": []
  },
  {
   "cell_type": "code",
   "execution_count": null,
   "metadata": {},
   "outputs": [],
   "source": []
  },
  {
   "cell_type": "code",
   "execution_count": 12,
   "metadata": {},
   "outputs": [],
   "source": [
    "tb1 = Entry(Right,textvariable=f1)\n",
    "tb1.pack()\n",
    "tb2 = Entry(Right,textvariable=f2)\n",
    "tb2.pack()"
   ]
  },
  {
   "cell_type": "code",
   "execution_count": null,
   "metadata": {},
   "outputs": [],
   "source": []
  },
  {
   "cell_type": "code",
   "execution_count": 13,
   "metadata": {},
   "outputs": [],
   "source": [
    "b1 = Button(BelowMid, text=\"Text To Speech\",bg='green', command=txttospeech)\n",
    "b1.pack(pady=10)\n",
    "b2 = Button(BelowMid, text=\"Image To Speech\",bg='green', command=pytecimage)\n",
    "b2.pack(pady=10)"
   ]
  },
  {
   "cell_type": "code",
   "execution_count": null,
   "metadata": {},
   "outputs": [],
   "source": []
  },
  {
   "cell_type": "code",
   "execution_count": 14,
   "metadata": {},
   "outputs": [],
   "source": [
    "if __name__ == '__main__':\n",
    "    r.mainloop()"
   ]
  },
  {
   "cell_type": "code",
   "execution_count": null,
   "metadata": {},
   "outputs": [],
   "source": []
  },
  {
   "cell_type": "code",
   "execution_count": null,
   "metadata": {},
   "outputs": [],
   "source": []
  }
 ],
 "metadata": {
  "kernelspec": {
   "display_name": "Python 3",
   "language": "python",
   "name": "python3"
  },
  "language_info": {
   "codemirror_mode": {
    "name": "ipython",
    "version": 3
   },
   "file_extension": ".py",
   "mimetype": "text/x-python",
   "name": "python",
   "nbconvert_exporter": "python",
   "pygments_lexer": "ipython3",
   "version": "3.8.3"
  }
 },
 "nbformat": 4,
 "nbformat_minor": 4
}
